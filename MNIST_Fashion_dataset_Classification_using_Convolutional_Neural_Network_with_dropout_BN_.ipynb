{
  "nbformat": 4,
  "nbformat_minor": 0,
  "metadata": {
    "colab": {
      "name": "MNIST Fashion dataset Classification using Convolutional Neural Network with dropout/BN .ipynb",
      "provenance": [],
      "authorship_tag": "ABX9TyNQLwG+h4paQypevHz/vEVs",
      "include_colab_link": true
    },
    "kernelspec": {
      "name": "python3",
      "display_name": "Python 3"
    }
  },
  "cells": [
    {
      "cell_type": "markdown",
      "metadata": {
        "id": "view-in-github",
        "colab_type": "text"
      },
      "source": [
        "<a href=\"https://colab.research.google.com/github/altiss/Classification-using-CNN/blob/main/MNIST_Fashion_dataset_Classification_using_Convolutional_Neural_Network_with_dropout_BN_.ipynb\" target=\"_parent\"><img src=\"https://colab.research.google.com/assets/colab-badge.svg\" alt=\"Open In Colab\"/></a>"
      ]
    },
    {
      "cell_type": "code",
      "metadata": {
        "id": "NVFpS7hCms0V"
      },
      "source": [
        "import numpy as np\r\n",
        "import matplotlib.pyplot as plt\r\n",
        "import tensorflow as tf\r\n",
        "from tensorflow.keras.preprocessing.image import ImageDataGenerator"
      ],
      "execution_count": 96,
      "outputs": []
    },
    {
      "cell_type": "code",
      "metadata": {
        "id": "17XrKvWfmyDd"
      },
      "source": [
        "\r\n",
        "# Load the MNIST dataset.\r\n",
        "fashion_mnist = tf.keras.datasets.fashion_mnist\r\n",
        "train_data, test_data = fashion_mnist.load_data()"
      ],
      "execution_count": 97,
      "outputs": []
    },
    {
      "cell_type": "code",
      "metadata": {
        "id": "keFCxLrDmyKO"
      },
      "source": [
        "# Divide the data into features and labels.\r\n",
        "train_images, y_train = train_data\r\n",
        "test_images, y_test = test_data"
      ],
      "execution_count": 98,
      "outputs": []
    },
    {
      "cell_type": "code",
      "metadata": {
        "id": "djeHxmGimyQS"
      },
      "source": [
        "# Reshape and normalize the images.\r\n",
        "X_train = train_images.reshape((60000, 28, 28, 1))\r\n",
        "X_train = X_train.astype('float32') / 255\r\n",
        "X_test = test_images.reshape((10000, 28, 28, 1))\r\n",
        "X_test = X_test.astype('float32') / 255"
      ],
      "execution_count": 99,
      "outputs": []
    },
    {
      "cell_type": "code",
      "metadata": {
        "colab": {
          "base_uri": "https://localhost:8080/"
        },
        "id": "-0wC8yIvmyWr",
        "outputId": "8df00000-d90f-4801-879b-fbf0bd1d4180"
      },
      "source": [
        "# Show the shapes of the data.\r\n",
        "print(\"Training Images:\", X_train.shape)\r\n",
        "print(\"Testing Images:\", X_test.shape)\r\n",
        "print(\"Training Labels:\", y_train.shape)\r\n",
        "print(\"Test Labels:\", y_test.shape)"
      ],
      "execution_count": 100,
      "outputs": [
        {
          "output_type": "stream",
          "text": [
            "Training Images: (60000, 28, 28, 1)\n",
            "Testing Images: (10000, 28, 28, 1)\n",
            "Training Labels: (60000,)\n",
            "Test Labels: (10000,)\n"
          ],
          "name": "stdout"
        }
      ]
    },
    {
      "cell_type": "code",
      "metadata": {
        "colab": {
          "base_uri": "https://localhost:8080/",
          "height": 265
        },
        "id": "24XThUg7mycr",
        "outputId": "6444ae51-68ff-4a4d-92d9-1749f20b92c9"
      },
      "source": [
        "# Show a sample MNIST fashion item.\r\n",
        "plt.imshow(train_images[10])\r\n",
        "plt.show()"
      ],
      "execution_count": 101,
      "outputs": [
        {
          "output_type": "display_data",
          "data": {
            "image/png": "[encoded data removed]",
            "text/plain": [
              "<Figure size 432x288 with 1 Axes>"
            ]
          },
          "metadata": {
            "tags": [],
            "needs_background": "light"
          }
        }
      ]
    },
    {
      "cell_type": "code",
      "metadata": {
        "id": "-4dYa0aSm_0-"
      },
      "source": [
        "# Define the class names.\r\n",
        "class_names = ['T-Shirt/Top', 'Trouser', 'Pullover', 'Dress', 'Coat',\r\n",
        "               'Sandal', 'Shirt', 'Sneaker', 'Bag', 'Ankle Boot']"
      ],
      "execution_count": 102,
      "outputs": []
    },
    {
      "cell_type": "code",
      "metadata": {
        "id": "F92BTEo5m_7-"
      },
      "source": [
        "\r\n",
        "# Define the sequential model.\r\n",
        "model = tf.keras.models.Sequential()"
      ],
      "execution_count": 103,
      "outputs": []
    },
    {
      "cell_type": "code",
      "metadata": {
        "id": "CIEYMgJ0nACz"
      },
      "source": [
        "\r\n",
        "# Define the network's layes.\r\n",
        "\r\n",
        "model.add(tf.keras.layers.Conv2D(32, (3, 3), activation='relu', input_shape=(28, 28, 1)))\r\n",
        "model.add(tf.keras.layers.BatchNormalization())\r\n",
        "model.add(tf.keras.layers.MaxPooling2D((2, 2)))\r\n",
        "model.add(tf.keras.layers.Dropout(0.1))\r\n",
        "model.add(tf.keras.layers.Conv2D(64, (3, 3), activation='relu'))\r\n",
        "model.add(tf.keras.layers.BatchNormalization())\r\n",
        "model.add(tf.keras.layers.MaxPooling2D((2, 2)))\r\n",
        "model.add(tf.keras.layers.Dropout(0.2))\r\n",
        "model.add(tf.keras.layers.Conv2D(64, (3, 3), activation='relu'))\r\n",
        "model.add(tf.keras.layers.Flatten())\r\n",
        "model.add(tf.keras.layers.Dense(64, activation='relu'))\r\n",
        "model.add(tf.keras.layers.BatchNormalization())\r\n",
        "model.add(tf.keras.layers.Dense(10, activation='softmax'))"
      ],
      "execution_count": 104,
      "outputs": []
    },
    {
      "cell_type": "code",
      "metadata": {
        "colab": {
          "base_uri": "https://localhost:8080/"
        },
        "id": "ie1E5ZGGnAI_",
        "outputId": "9758cf9b-b34b-41f7-863f-4ccae1562529"
      },
      "source": [
        "# Show the model.\r\n",
        "model.summary()"
      ],
      "execution_count": 105,
      "outputs": [
        {
          "output_type": "stream",
          "text": [
            "Model: \"sequential_5\"\n",
            "_________________________________________________________________\n",
            "Layer (type)                 Output Shape              Param #   \n",
            "=================================================================\n",
            "conv2d_15 (Conv2D)           (None, 26, 26, 32)        320       \n",
            "_________________________________________________________________\n",
            "batch_normalization_7 (Batch (None, 26, 26, 32)        128       \n",
            "_________________________________________________________________\n",
            "max_pooling2d_11 (MaxPooling (None, 13, 13, 32)        0         \n",
            "_________________________________________________________________\n",
            "dropout_11 (Dropout)         (None, 13, 13, 32)        0         \n",
            "_________________________________________________________________\n",
            "conv2d_16 (Conv2D)           (None, 11, 11, 64)        18496     \n",
            "_________________________________________________________________\n",
            "batch_normalization_8 (Batch (None, 11, 11, 64)        256       \n",
            "_________________________________________________________________\n",
            "max_pooling2d_12 (MaxPooling (None, 5, 5, 64)          0         \n",
            "_________________________________________________________________\n",
            "dropout_12 (Dropout)         (None, 5, 5, 64)          0         \n",
            "_________________________________________________________________\n",
            "conv2d_17 (Conv2D)           (None, 3, 3, 64)          36928     \n",
            "_________________________________________________________________\n",
            "flatten_5 (Flatten)          (None, 576)               0         \n",
            "_________________________________________________________________\n",
            "dense_10 (Dense)             (None, 64)                36928     \n",
            "_________________________________________________________________\n",
            "batch_normalization_9 (Batch (None, 64)                256       \n",
            "_________________________________________________________________\n",
            "dense_11 (Dense)             (None, 10)                650       \n",
            "=================================================================\n",
            "Total params: 93,962\n",
            "Trainable params: 93,642\n",
            "Non-trainable params: 320\n",
            "_________________________________________________________________\n"
          ],
          "name": "stdout"
        }
      ]
    },
    {
      "cell_type": "code",
      "metadata": {
        "id": "iMbtfTjVnAPr"
      },
      "source": [
        "# Compile the model.\r\n",
        "model.compile(optimizer='adam', loss='sparse_categorical_crossentropy', metrics=['accuracy'])"
      ],
      "execution_count": 106,
      "outputs": []
    },
    {
      "cell_type": "code",
      "metadata": {
        "colab": {
          "base_uri": "https://localhost:8080/"
        },
        "id": "kFbq3BEInTae",
        "outputId": "0c62fb4f-b9aa-4e76-d45b-2f3d427ca525"
      },
      "source": [
        "from PIL import Image as im\r\n",
        "# Define the parameters.\r\n",
        "num_epochs = 10\r\n",
        "batch_size = 256\r\n",
        "\r\n",
        "# Train the model.\r\n",
        "history = model.fit(X_train, \r\n",
        "                      y_train, \r\n",
        "                      epochs=num_epochs, \r\n",
        "                      batch_size=batch_size, \r\n",
        "                      validation_data=(X_test,y_test))"
      ],
      "execution_count": 107,
      "outputs": [
        {
          "output_type": "stream",
          "text": [
            "Epoch 1/10\n",
            "235/235 [==============================] - 67s 281ms/step - loss: 0.7418 - accuracy: 0.7393 - val_loss: 2.1863 - val_accuracy: 0.2807\n",
            "Epoch 2/10\n",
            "235/235 [==============================] - 66s 281ms/step - loss: 0.3352 - accuracy: 0.8787 - val_loss: 0.6207 - val_accuracy: 0.7791\n",
            "Epoch 3/10\n",
            "235/235 [==============================] - 66s 281ms/step - loss: 0.2905 - accuracy: 0.8949 - val_loss: 0.2906 - val_accuracy: 0.8940\n",
            "Epoch 4/10\n",
            "235/235 [==============================] - 66s 280ms/step - loss: 0.2512 - accuracy: 0.9066 - val_loss: 0.3057 - val_accuracy: 0.8922\n",
            "Epoch 5/10\n",
            "235/235 [==============================] - 66s 281ms/step - loss: 0.2381 - accuracy: 0.9122 - val_loss: 0.2648 - val_accuracy: 0.9021\n",
            "Epoch 6/10\n",
            "235/235 [==============================] - 66s 280ms/step - loss: 0.2243 - accuracy: 0.9180 - val_loss: 0.2850 - val_accuracy: 0.8994\n",
            "Epoch 7/10\n",
            "235/235 [==============================] - 66s 280ms/step - loss: 0.2130 - accuracy: 0.9207 - val_loss: 0.2582 - val_accuracy: 0.9042\n",
            "Epoch 8/10\n",
            "235/235 [==============================] - 67s 286ms/step - loss: 0.2004 - accuracy: 0.9260 - val_loss: 0.2515 - val_accuracy: 0.9101\n",
            "Epoch 9/10\n",
            "235/235 [==============================] - 66s 282ms/step - loss: 0.1909 - accuracy: 0.9306 - val_loss: 0.2835 - val_accuracy: 0.9003\n",
            "Epoch 10/10\n",
            "235/235 [==============================] - 66s 282ms/step - loss: 0.1796 - accuracy: 0.9333 - val_loss: 0.2431 - val_accuracy: 0.9167\n"
          ],
          "name": "stdout"
        }
      ]
    },
    {
      "cell_type": "code",
      "metadata": {
        "colab": {
          "base_uri": "https://localhost:8080/"
        },
        "id": "1FCzk5G0nTio",
        "outputId": "2aefe1a9-6865-45fa-da40-185a88fa7436"
      },
      "source": [
        "test_loss, test_accuracy = model.evaluate(X_test, y_test)\r\n",
        "print('Test Accuracy:', test_accuracy)\r\n",
        "print('Test Loss:', test_loss)"
      ],
      "execution_count": 108,
      "outputs": [
        {
          "output_type": "stream",
          "text": [
            "313/313 [==============================] - 4s 11ms/step - loss: 0.2431 - accuracy: 0.9167\n",
            "Test Accuracy: 0.916700005531311\n",
            "Test Loss: 0.24308083951473236\n"
          ],
          "name": "stdout"
        }
      ]
    },
    {
      "cell_type": "code",
      "metadata": {
        "id": "u1WOVCJ3nXEc"
      },
      "source": [
        "# Save the metrics.\r\n",
        "metrics = history.history"
      ],
      "execution_count": 109,
      "outputs": []
    },
    {
      "cell_type": "code",
      "metadata": {
        "id": "FTNkPn9dnXN0"
      },
      "source": [
        "# Save the loss values.\r\n",
        "training_loss_list = metrics['loss']\r\n",
        "test_loss_list = metrics['val_loss']"
      ],
      "execution_count": 110,
      "outputs": []
    },
    {
      "cell_type": "code",
      "metadata": {
        "colab": {
          "base_uri": "https://localhost:8080/",
          "height": 295
        },
        "id": "FsSogeACnXWn",
        "outputId": "93840b7b-8ad6-4ed7-c9d1-b4419e624b19"
      },
      "source": [
        "# Plot the training and test loss.\r\n",
        "x = np.arange(0, num_epochs, 1)\r\n",
        "plt.title('Training and Test Loss')\r\n",
        "plt.xlabel('Epoch')\r\n",
        "plt.ylabel('Loss')\r\n",
        "plt.plot(x, training_loss_list, label='Training Loss')\r\n",
        "plt.plot(x, test_loss_list, label='Test Loss')\r\n",
        "plt.legend()\r\n",
        "plt.show()"
      ],
      "execution_count": 111,
      "outputs": [
        {
          "output_type": "display_data",
          "data": {
            "image/png": "[encoded data removed]",
            "text/plain": [
              "<Figure size 432x288 with 1 Axes>"
            ]
          },
          "metadata": {
            "tags": [],
            "needs_background": "light"
          }
        }
      ]
    },
    {
      "cell_type": "code",
      "metadata": {
        "id": "Q-Uc8oQ3ndtw"
      },
      "source": [
        "\r\n",
        "train_accuracy_list = metrics['accuracy']\r\n",
        "test_accuracy_list = metrics['val_accuracy']"
      ],
      "execution_count": 112,
      "outputs": []
    },
    {
      "cell_type": "code",
      "metadata": {
        "colab": {
          "base_uri": "https://localhost:8080/",
          "height": 295
        },
        "id": "6he5fDQtnd1m",
        "outputId": "023a079f-0dd0-4427-bb8f-c1e56bc8006b"
      },
      "source": [
        "\r\n",
        "plt.title('Training and Test Accuracy')\r\n",
        "plt.xlabel('Epoch')\r\n",
        "plt.ylabel('Accuracy')\r\n",
        "plt.plot(x, train_accuracy_list, label='Training Accuracy')\r\n",
        "plt.plot(x, test_accuracy_list, label='Test Accuracy')\r\n",
        "plt.legend()\r\n",
        "plt.show()"
      ],
      "execution_count": 113,
      "outputs": [
        {
          "output_type": "display_data",
          "data": {
            "image/png": "[encoded data removed]",
            "text/plain": [
              "<Figure size 432x288 with 1 Axes>"
            ]
          },
          "metadata": {
            "tags": [],
            "needs_background": "light"
          }
        }
      ]
    },
    {
      "cell_type": "code",
      "metadata": {
        "colab": {
          "base_uri": "https://localhost:8080/",
          "height": 282
        },
        "id": "-8lz7Yjdnd9c",
        "outputId": "34f19d8c-5a96-4fd1-ac06-4b6ca8466f4d"
      },
      "source": [
        "# Make predictions with the trained model.\r\n",
        "predictions = model.predict(X_test)\r\n",
        "\r\n",
        "# Choose an index.\r\n",
        "index = 125\r\n",
        "\r\n",
        "# Show an image from the test set.\r\n",
        "plt.imshow(test_images[index])\r\n",
        "plt.show()\r\n",
        "\r\n",
        "print(\"Prediction:\", class_names[np.argmax(predictions[index])])"
      ],
      "execution_count": 114,
      "outputs": [
        {
          "output_type": "display_data",
          "data": {
            "image/png": "[encoded data removed]",
            "text/plain": [
              "<Figure size 432x288 with 1 Axes>"
            ]
          },
          "metadata": {
            "tags": [],
            "needs_background": "light"
          }
        },
        {
          "output_type": "stream",
          "text": [
            "Prediction: T-Shirt/Top\n"
          ],
          "name": "stdout"
        }
      ]
    }
  ]
}