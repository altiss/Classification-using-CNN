{
  "nbformat": 4,
  "nbformat_minor": 0,
  "metadata": {
    "colab": {
      "name": "MNIST Fashion dataset Classification using Convolutional Neural Network.ipynb",
      "provenance": []
    },
    "kernelspec": {
      "name": "python3",
      "display_name": "Python 3"
    }
  },
  "cells": [
    {
      "cell_type": "code",
      "metadata": {
        "id": "NVFpS7hCms0V"
      },
      "source": [
        "import numpy as np\r\n",
        "import matplotlib.pyplot as plt\r\n",
        "import tensorflow as tf\r\n",
        "from tensorflow.keras.preprocessing.image import ImageDataGenerator"
      ],
      "execution_count": 79,
      "outputs": []
    },
    {
      "cell_type": "code",
      "metadata": {
        "id": "17XrKvWfmyDd"
      },
      "source": [
        "\r\n",
        "# Load the MNIST dataset.\r\n",
        "fashion_mnist = tf.keras.datasets.fashion_mnist\r\n",
        "train_data, test_data = fashion_mnist.load_data()"
      ],
      "execution_count": 80,
      "outputs": []
    },
    {
      "cell_type": "code",
      "metadata": {
        "id": "keFCxLrDmyKO"
      },
      "source": [
        "# Divide the data into features and labels.\r\n",
        "train_images, y_train = train_data\r\n",
        "test_images, y_test = test_data"
      ],
      "execution_count": 81,
      "outputs": []
    },
    {
      "cell_type": "code",
      "metadata": {
        "id": "djeHxmGimyQS"
      },
      "source": [
        "# Reshape and normalize the images.\r\n",
        "X_train = train_images.reshape((60000, 28, 28, 1))\r\n",
        "X_train = X_train.astype('float32') / 255\r\n",
        "X_test = test_images.reshape((10000, 28, 28, 1))\r\n",
        "X_test = X_test.astype('float32') / 255"
      ],
      "execution_count": 82,
      "outputs": []
    },
    {
      "cell_type": "code",
      "metadata": {
        "colab": {
          "base_uri": "https://localhost:8080/"
        },
        "id": "-0wC8yIvmyWr",
        "outputId": "ae266b01-0f26-4d50-a931-c6b94b21424a"
      },
      "source": [
        "# Show the shapes of the data.\r\n",
        "print(\"Training Images:\", X_train.shape)\r\n",
        "print(\"Testing Images:\", X_test.shape)\r\n",
        "print(\"Training Labels:\", y_train.shape)\r\n",
        "print(\"Test Labels:\", y_test.shape)"
      ],
      "execution_count": 83,
      "outputs": [
        {
          "output_type": "stream",
          "text": [
            "Training Images: (60000, 28, 28, 1)\n",
            "Testing Images: (10000, 28, 28, 1)\n",
            "Training Labels: (60000,)\n",
            "Test Labels: (10000,)\n"
          ],
          "name": "stdout"
        }
      ]
    },
    {
      "cell_type": "code",
      "metadata": {
        "colab": {
          "base_uri": "https://localhost:8080/",
          "height": 265
        },
        "id": "24XThUg7mycr",
        "outputId": "89afd899-3395-41ba-c3b4-64ebf06b1f00"
      },
      "source": [
        "# Show a sample MNIST fashion item.\r\n",
        "plt.imshow(train_images[10])\r\n",
        "plt.show()"
      ],
      "execution_count": 84,
      "outputs": [
        {
          "output_type": "display_data",
          "data": {
            "image/png": "[encoded data removed]",
            "text/plain": [
              "<Figure size 432x288 with 1 Axes>"
            ]
          },
          "metadata": {
            "tags": [],
            "needs_background": "light"
          }
        }
      ]
    },
    {
      "cell_type": "code",
      "metadata": {
        "id": "-4dYa0aSm_0-"
      },
      "source": [
        "# Define the class names.\r\n",
        "class_names = ['T-Shirt/Top', 'Trouser', 'Pullover', 'Dress', 'Coat',\r\n",
        "               'Sandal', 'Shirt', 'Sneaker', 'Bag', 'Ankle Boot']"
      ],
      "execution_count": 85,
      "outputs": []
    },
    {
      "cell_type": "code",
      "metadata": {
        "id": "F92BTEo5m_7-"
      },
      "source": [
        "\r\n",
        "# Define the sequential model.\r\n",
        "model = tf.keras.models.Sequential()"
      ],
      "execution_count": 86,
      "outputs": []
    },
    {
      "cell_type": "code",
      "metadata": {
        "id": "CIEYMgJ0nACz"
      },
      "source": [
        "\r\n",
        "# Define the network's layes.\r\n",
        "model.add(tf.keras.layers.Conv2D(32, (3, 3), activation='relu', input_shape=(28, 28, 1)))\r\n",
        "model.add(tf.keras.layers.MaxPooling2D((2, 2)))\r\n",
        "model.add(tf.keras.layers.Conv2D(64, (3, 3), activation='relu'))\r\n",
        "model.add(tf.keras.layers.MaxPooling2D((2, 2)))\r\n",
        "model.add(tf.keras.layers.Conv2D(64, (3, 3), activation='relu'))\r\n",
        "model.add(tf.keras.layers.Flatten())\r\n",
        "model.add(tf.keras.layers.Dense(64, activation='relu'))\r\n",
        "model.add(tf.keras.layers.Dense(10, activation='softmax'))"
      ],
      "execution_count": 87,
      "outputs": []
    },
    {
      "cell_type": "code",
      "metadata": {
        "colab": {
          "base_uri": "https://localhost:8080/"
        },
        "id": "ie1E5ZGGnAI_",
        "outputId": "f8a1d364-86a8-48e4-e7aa-c2776ab51943"
      },
      "source": [
        "# Show the model.\r\n",
        "model.summary()"
      ],
      "execution_count": 88,
      "outputs": [
        {
          "output_type": "stream",
          "text": [
            "Model: \"sequential_4\"\n",
            "_________________________________________________________________\n",
            "Layer (type)                 Output Shape              Param #   \n",
            "=================================================================\n",
            "conv2d_12 (Conv2D)           (None, 26, 26, 32)        320       \n",
            "_________________________________________________________________\n",
            "max_pooling2d_8 (MaxPooling2 (None, 13, 13, 32)        0         \n",
            "_________________________________________________________________\n",
            "conv2d_13 (Conv2D)           (None, 11, 11, 64)        18496     \n",
            "_________________________________________________________________\n",
            "max_pooling2d_9 (MaxPooling2 (None, 5, 5, 64)          0         \n",
            "_________________________________________________________________\n",
            "conv2d_14 (Conv2D)           (None, 3, 3, 64)          36928     \n",
            "_________________________________________________________________\n",
            "flatten_4 (Flatten)          (None, 576)               0         \n",
            "_________________________________________________________________\n",
            "dense_8 (Dense)              (None, 64)                36928     \n",
            "_________________________________________________________________\n",
            "dense_9 (Dense)              (None, 10)                650       \n",
            "=================================================================\n",
            "Total params: 93,322\n",
            "Trainable params: 93,322\n",
            "Non-trainable params: 0\n",
            "_________________________________________________________________\n"
          ],
          "name": "stdout"
        }
      ]
    },
    {
      "cell_type": "code",
      "metadata": {
        "id": "iMbtfTjVnAPr"
      },
      "source": [
        "# Compile the model.\r\n",
        "model.compile(optimizer='adam', loss='sparse_categorical_crossentropy', metrics=['accuracy'])"
      ],
      "execution_count": 89,
      "outputs": []
    },
    {
      "cell_type": "code",
      "metadata": {
        "colab": {
          "base_uri": "https://localhost:8080/"
        },
        "id": "kFbq3BEInTae",
        "outputId": "80e7e574-7ca3-41a3-9eff-a2e0890b9efa"
      },
      "source": [
        "from PIL import Image as im\r\n",
        "# Define the parameters.\r\n",
        "num_epochs = 10\r\n",
        "batch_size = 256\r\n",
        "\r\n",
        "# Train the model.\r\n",
        "history = model.fit(X_train, \r\n",
        "                      y_train, \r\n",
        "                      epochs=num_epochs, \r\n",
        "                      batch_size=batch_size, \r\n",
        "                      validation_data=(X_test,y_test))"
      ],
      "execution_count": 90,
      "outputs": [
        {
          "output_type": "stream",
          "text": [
            "Epoch 1/10\n",
            "235/235 [==============================] - 42s 175ms/step - loss: 1.0671 - accuracy: 0.6043 - val_loss: 0.4976 - val_accuracy: 0.8089\n",
            "Epoch 2/10\n",
            "235/235 [==============================] - 41s 175ms/step - loss: 0.4333 - accuracy: 0.8425 - val_loss: 0.4034 - val_accuracy: 0.8555\n",
            "Epoch 3/10\n",
            "235/235 [==============================] - 41s 176ms/step - loss: 0.3644 - accuracy: 0.8707 - val_loss: 0.3606 - val_accuracy: 0.8705\n",
            "Epoch 4/10\n",
            "235/235 [==============================] - 41s 175ms/step - loss: 0.3324 - accuracy: 0.8797 - val_loss: 0.3392 - val_accuracy: 0.8752\n",
            "Epoch 5/10\n",
            "235/235 [==============================] - 41s 175ms/step - loss: 0.2984 - accuracy: 0.8918 - val_loss: 0.3147 - val_accuracy: 0.8847\n",
            "Epoch 6/10\n",
            "235/235 [==============================] - 41s 174ms/step - loss: 0.2828 - accuracy: 0.8984 - val_loss: 0.3016 - val_accuracy: 0.8937\n",
            "Epoch 7/10\n",
            "235/235 [==============================] - 41s 175ms/step - loss: 0.2628 - accuracy: 0.9046 - val_loss: 0.2831 - val_accuracy: 0.8972\n",
            "Epoch 8/10\n",
            "235/235 [==============================] - 41s 175ms/step - loss: 0.2495 - accuracy: 0.9096 - val_loss: 0.2814 - val_accuracy: 0.8971\n",
            "Epoch 9/10\n",
            "235/235 [==============================] - 41s 175ms/step - loss: 0.2442 - accuracy: 0.9110 - val_loss: 0.2699 - val_accuracy: 0.9026\n",
            "Epoch 10/10\n",
            "235/235 [==============================] - 41s 175ms/step - loss: 0.2214 - accuracy: 0.9194 - val_loss: 0.2835 - val_accuracy: 0.8994\n"
          ],
          "name": "stdout"
        }
      ]
    },
    {
      "cell_type": "code",
      "metadata": {
        "colab": {
          "base_uri": "https://localhost:8080/"
        },
        "id": "1FCzk5G0nTio",
        "outputId": "02d3ee51-100f-43ea-9401-4e8b0d3b9cba"
      },
      "source": [
        "test_loss, test_accuracy = model.evaluate(X_test, y_test)\r\n",
        "print('Test Accuracy:', test_accuracy)\r\n",
        "print('Test Loss:', test_loss)"
      ],
      "execution_count": 91,
      "outputs": [
        {
          "output_type": "stream",
          "text": [
            "313/313 [==============================] - 3s 9ms/step - loss: 0.2835 - accuracy: 0.8994\n",
            "Test Accuracy: 0.899399995803833\n",
            "Test Loss: 0.2834913432598114\n"
          ],
          "name": "stdout"
        }
      ]
    },
    {
      "cell_type": "code",
      "metadata": {
        "id": "u1WOVCJ3nXEc"
      },
      "source": [
        "# Save the metrics.\r\n",
        "metrics = history.history"
      ],
      "execution_count": 92,
      "outputs": []
    },
    {
      "cell_type": "code",
      "metadata": {
        "id": "FTNkPn9dnXN0"
      },
      "source": [
        "# Save the loss values.\r\n",
        "training_loss_list = metrics['loss']\r\n",
        "test_loss_list = metrics['val_loss']"
      ],
      "execution_count": 93,
      "outputs": []
    },
    {
      "cell_type": "code",
      "metadata": {
        "colab": {
          "base_uri": "https://localhost:8080/",
          "height": 295
        },
        "id": "FsSogeACnXWn",
        "outputId": "84b2bcf5-929f-4cfb-de02-837da75566d9"
      },
      "source": [
        "# Plot the training and test loss.\r\n",
        "x = np.arange(0, num_epochs, 1)\r\n",
        "plt.title('Training and Test Loss')\r\n",
        "plt.xlabel('Epoch')\r\n",
        "plt.ylabel('Loss')\r\n",
        "plt.plot(x, training_loss_list, label='Training Loss')\r\n",
        "plt.plot(x, test_loss_list, label='Test Loss')\r\n",
        "plt.legend()\r\n",
        "plt.show()"
      ],
      "execution_count": 94,
      "outputs": [
        {
          "output_type": "display_data",
          "data": {
            "image/png": "[encoded data removed]",
            "text/plain": [
              "<Figure size 432x288 with 1 Axes>"
            ]
          },
          "metadata": {
            "tags": [],
            "needs_background": "light"
          }
        }
      ]
    },
    {
      "cell_type": "code",
      "metadata": {
        "id": "Q-Uc8oQ3ndtw"
      },
      "source": [
        "\r\n",
        "train_accuracy_list = metrics['accuracy']\r\n",
        "test_accuracy_list = metrics['val_accuracy']"
      ],
      "execution_count": 95,
      "outputs": []
    },
    {
      "cell_type": "code",
      "metadata": {
        "colab": {
          "base_uri": "https://localhost:8080/",
          "height": 295
        },
        "id": "6he5fDQtnd1m",
        "outputId": "9d7dc648-7db6-46cf-e3a6-9622539fb0c3"
      },
      "source": [
        "\r\n",
        "plt.title('Training and Test Accuracy')\r\n",
        "plt.xlabel('Epoch')\r\n",
        "plt.ylabel('Accuracy')\r\n",
        "plt.plot(x, train_accuracy_list, label='Training Accuracy')\r\n",
        "plt.plot(x, test_accuracy_list, label='Test Accuracy')\r\n",
        "plt.legend()\r\n",
        "plt.show()"
      ],
      "execution_count": 96,
      "outputs": [
        {
          "output_type": "display_data",
          "data": {
            "image/png": "[encoded data removed]",
            "text/plain": [
              "<Figure size 432x288 with 1 Axes>"
            ]
          },
          "metadata": {
            "tags": [],
            "needs_background": "light"
          }
        }
      ]
    },
    {
      "cell_type": "code",
      "metadata": {
        "colab": {
          "base_uri": "https://localhost:8080/",
          "height": 282
        },
        "id": "-8lz7Yjdnd9c",
        "outputId": "4bfb5785-d15a-4ccb-f1bc-60885b55536f"
      },
      "source": [
        "# Make predictions with the trained model.\r\n",
        "predictions = model.predict(X_test)\r\n",
        "\r\n",
        "# Choose an index.\r\n",
        "index = 125\r\n",
        "\r\n",
        "# Show an image from the test set.\r\n",
        "plt.imshow(test_images[index])\r\n",
        "plt.show()\r\n",
        "\r\n",
        "print(\"Prediction:\", class_names[np.argmax(predictions[index])])"
      ],
      "execution_count": 97,
      "outputs": [
        {
          "output_type": "display_data",
          "data": {
            "image/png": "[encoded data removed]",
            "text/plain": [
              "<Figure size 432x288 with 1 Axes>"
            ]
          },
          "metadata": {
            "tags": [],
            "needs_background": "light"
          }
        },
        {
          "output_type": "stream",
          "text": [
            "Prediction: T-Shirt/Top\n"
          ],
          "name": "stdout"
        }
      ]
    }
  ]
}